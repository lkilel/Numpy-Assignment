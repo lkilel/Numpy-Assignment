{
 "cells": [
  {
   "cell_type": "code",
   "execution_count": 1,
   "id": "f78aac0b",
   "metadata": {},
   "outputs": [],
   "source": [
    "import numpy as np"
   ]
  },
  {
   "cell_type": "code",
   "execution_count": 2,
   "id": "c39e012a",
   "metadata": {},
   "outputs": [],
   "source": [
    "heights = np.array([160, 155, 172, 165, 180, 158, 175, 163, 171, 168])"
   ]
  },
  {
   "cell_type": "code",
   "execution_count": 3,
   "id": "7ccfb7a4",
   "metadata": {},
   "outputs": [
    {
     "data": {
      "text/plain": [
       "166.7"
      ]
     },
     "execution_count": 3,
     "metadata": {},
     "output_type": "execute_result"
    }
   ],
   "source": [
    "mean = np.mean(heights)\n",
    "mean"
   ]
  },
  {
   "cell_type": "code",
   "execution_count": 4,
   "id": "24bce98a",
   "metadata": {},
   "outputs": [
    {
     "data": {
      "text/plain": [
       "166.5"
      ]
     },
     "execution_count": 4,
     "metadata": {},
     "output_type": "execute_result"
    }
   ],
   "source": [
    "median = np.median(heights)\n",
    "median"
   ]
  },
  {
   "cell_type": "code",
   "execution_count": 5,
   "id": "d4c5d6df",
   "metadata": {},
   "outputs": [
    {
     "data": {
      "text/plain": [
       "7.5372408744845085"
      ]
     },
     "execution_count": 5,
     "metadata": {},
     "output_type": "execute_result"
    }
   ],
   "source": [
    "std_dev = np.std(heights)\n",
    "std_dev"
   ]
  },
  {
   "cell_type": "code",
   "execution_count": null,
   "id": "f797c4c2",
   "metadata": {},
   "outputs": [],
   "source": []
  },
  {
   "cell_type": "code",
   "execution_count": 13,
   "id": "d6f57b77",
   "metadata": {},
   "outputs": [
    {
     "data": {
      "text/plain": [
       "array([ 0.4925646 , -0.15843725, -0.72026395,  1.05829271, -0.92293669,\n",
       "        0.04325079, -0.46567374,  0.29488784, -0.41546428, -0.86074697])"
      ]
     },
     "execution_count": 13,
     "metadata": {},
     "output_type": "execute_result"
    }
   ],
   "source": [
    "normal_array = np.random.randn(10)\n",
    "normal_array"
   ]
  },
  {
   "cell_type": "code",
   "execution_count": 15,
   "id": "5831ab19",
   "metadata": {},
   "outputs": [],
   "source": [
    "Normalized_heights= np.array([ 0.4925646 , -0.15843725, -0.72026395,  1.05829271, -0.92293669,\n",
    "        0.04325079, -0.46567374,  0.29488784, -0.41546428, -0.86074697])\n"
   ]
  },
  {
   "cell_type": "code",
   "execution_count": 25,
   "id": "4eb5bc34",
   "metadata": {},
   "outputs": [
    {
     "data": {
      "text/plain": [
       "-0.165452694"
      ]
     },
     "execution_count": 25,
     "metadata": {},
     "output_type": "execute_result"
    }
   ],
   "source": [
    "Norm_mean= np.mean(Normalized_heights)\n",
    "Norm_mean"
   ]
  },
  {
   "cell_type": "code",
   "execution_count": 24,
   "id": "622581c3",
   "metadata": {},
   "outputs": [
    {
     "data": {
      "text/plain": [
       "0.6085827367548495"
      ]
     },
     "execution_count": 24,
     "metadata": {},
     "output_type": "execute_result"
    }
   ],
   "source": [
    "Norm_std_dev = np.std(Normalized_heights)\n",
    "Norm_std_dev"
   ]
  },
  {
   "cell_type": "code",
   "execution_count": 23,
   "id": "5d3734bc",
   "metadata": {},
   "outputs": [
    {
     "data": {
      "text/plain": [
       "4"
      ]
     },
     "execution_count": 23,
     "metadata": {},
     "output_type": "execute_result"
    }
   ],
   "source": [
    "array_argmax = np.argmax(heights) #tallest student index\n",
    "array_argmax"
   ]
  },
  {
   "cell_type": "code",
   "execution_count": 22,
   "id": "79b223c0",
   "metadata": {},
   "outputs": [
    {
     "data": {
      "text/plain": [
       "1"
      ]
     },
     "execution_count": 22,
     "metadata": {},
     "output_type": "execute_result"
    }
   ],
   "source": [
    "array_argmin = np.argmin(heights) #shortest student index\n",
    "array_argmin"
   ]
  },
  {
   "cell_type": "code",
   "execution_count": null,
   "id": "e64f4c0f",
   "metadata": {},
   "outputs": [],
   "source": []
  },
  {
   "cell_type": "code",
   "execution_count": 30,
   "id": "1d3b6cfa",
   "metadata": {},
   "outputs": [
    {
     "data": {
      "text/plain": [
       "25"
      ]
     },
     "execution_count": 30,
     "metadata": {},
     "output_type": "execute_result"
    }
   ],
   "source": [
    "diff = np.max(heights)- np.min(heights)\n",
    "diff"
   ]
  },
  {
   "cell_type": "code",
   "execution_count": 31,
   "id": "2ea62ada",
   "metadata": {},
   "outputs": [
    {
     "data": {
      "text/plain": [
       "array([160, 158, 175, 155, 168])"
      ]
     },
     "execution_count": 31,
     "metadata": {},
     "output_type": "execute_result"
    }
   ],
   "source": [
    "sample_no_replacement = np.random.choice(heights, 5, replace=False)\n",
    "sample_no_replacement"
   ]
  },
  {
   "cell_type": "code",
   "execution_count": null,
   "id": "94440fed",
   "metadata": {},
   "outputs": [],
   "source": []
  }
 ],
 "metadata": {
  "kernelspec": {
   "display_name": "Python 3 (ipykernel)",
   "language": "python",
   "name": "python3"
  },
  "language_info": {
   "codemirror_mode": {
    "name": "ipython",
    "version": 3
   },
   "file_extension": ".py",
   "mimetype": "text/x-python",
   "name": "python",
   "nbconvert_exporter": "python",
   "pygments_lexer": "ipython3",
   "version": "3.11.4"
  }
 },
 "nbformat": 4,
 "nbformat_minor": 5
}
